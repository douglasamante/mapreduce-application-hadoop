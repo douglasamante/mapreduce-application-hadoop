{
  "nbformat": 4,
  "nbformat_minor": 0,
  "metadata": {
    "colab": {
      "name": "amigos_gplus.ipynb",
      "provenance": [],
      "collapsed_sections": []
    },
    "kernelspec": {
      "name": "python3",
      "display_name": "Python 3"
    },
    "language_info": {
      "name": "python"
    }
  },
  "cells": [
    {
      "cell_type": "code",
      "metadata": {
        "id": "5PrKyLvKKsmk",
        "colab": {
          "base_uri": "https://localhost:8080/"
        },
        "outputId": "27814064-df1d-4205-d817-2e06e2bcbeb7"
      },
      "source": [
        "# montar a drive e imports\n",
        "import pandas as pd\n",
        "import time\n",
        "import random\n",
        "\n",
        "from google.colab import drive\n",
        "drive.mount('/content/drive')"
      ],
      "execution_count": 40,
      "outputs": [
        {
          "output_type": "stream",
          "text": [
            "Drive already mounted at /content/drive; to attempt to forcibly remount, call drive.mount(\"/content/drive\", force_remount=True).\n"
          ],
          "name": "stdout"
        }
      ]
    },
    {
      "cell_type": "code",
      "metadata": {
        "colab": {
          "base_uri": "https://localhost:8080/"
        },
        "id": "WM8wSJvTJyfy",
        "outputId": "5f203900-fb1e-46ee-d00d-1eae51698b6b"
      },
      "source": [
        "# source http://snap.stanford.edu/data/ego-Facebook.html\n",
        "# File path\n",
        "filepath = '/content/drive/MyDrive/Colab Notebooks/Computação na Cloud (CC)/gplus_combined.csv'\n",
        "# pandas to read dataset\n",
        "dataset = pd.read_csv(filepath, delimiter=' ')\n",
        "print(\"Dataset\\n\", dataset)\n",
        "\n",
        "x = dataset.iloc[:, 0]\n",
        "y = dataset.iloc[:, 1]"
      ],
      "execution_count": 41,
      "outputs": [
        {
          "output_type": "stream",
          "text": [
            "Dataset\n",
            "           116374117927631468606  101765416973555767821\n",
            "0         112188647432305746617  107727150903234299458\n",
            "1         116719211656774388392  100432456209427807893\n",
            "2         117421021456205115327  101096322838605097368\n",
            "3         116407635616074189669  113556266482860931616\n",
            "4         105706178492556563330  111169963967137030210\n",
            "...                         ...                    ...\n",
            "30494860  118379821279745746467  102953973878117962383\n",
            "30494861  118379821279745746467  116863879615717543881\n",
            "30494862  118379821279745746467  102977664233671324384\n",
            "30494863  118379821279745746467  106299956776996674942\n",
            "30494864  118379821279745746467  109995768273040439562\n",
            "\n",
            "[30494865 rows x 2 columns]\n"
          ],
          "name": "stdout"
        }
      ]
    },
    {
      "cell_type": "code",
      "metadata": {
        "colab": {
          "base_uri": "https://localhost:8080/"
        },
        "id": "JH1OCL4qL0zh",
        "outputId": "7c25e550-1631-44cf-fe36-1aa07ec076eb"
      },
      "source": [
        "'''\n",
        "# Ids to search friends\n",
        "friend0 = x[random.randint(0, 30494865)]\n",
        "friend1 = x[random.randint(0, 30494865)]\n",
        "\n",
        "# We cannot see mutual friends of the same user\n",
        "if friend0 == friend1:\n",
        "  while friend0 == friend1:\n",
        "    friend0 = x[random.randint(0, 30494865)]\n",
        "    friend1 = x[random.randint(0, 30494865)]\n",
        "'''\n",
        "friend0 = str(109123727761757726835)\n",
        "friend1 = str(100722679426961808186)\n",
        "\n",
        "\n",
        "count0 = 0\n",
        "count1 = 0\n",
        "t0 = time.time()\n",
        "\n",
        "# Counting nº of friends to each ID\n",
        "# Each line is: friend0 friend_0\n",
        "#               friend0 friend_1\n",
        "#               friend0 friend_2\n",
        "\n",
        "# Computational Complexity: O(n+m)\n",
        "for i in x:\n",
        "  if friend0 == i:\n",
        "    count0 += 1\n",
        "  if friend1 == i:\n",
        "    count1 += 1\n",
        "t1 = time.time()\n",
        "\n",
        "print('Delta t(s) = ', (t1-t0))\n",
        "print('Nº of friends of %s: %d' %(friend0, count0))\n",
        "print('Nº of friends of %s: %d' %(friend1, count1))"
      ],
      "execution_count": 42,
      "outputs": [
        {
          "output_type": "stream",
          "text": [
            "Delta t(s) =  12.466744899749756\n",
            "Nº of friends of 107481975478679725467: 1184\n",
            "Nº of friends of 112460361944526645003: 2554\n"
          ],
          "name": "stdout"
        }
      ]
    },
    {
      "cell_type": "code",
      "metadata": {
        "colab": {
          "base_uri": "https://localhost:8080/"
        },
        "id": "f2wxLc5MSq4P",
        "outputId": "1f1048f7-43e0-42dc-f904-7aafd0c232e1"
      },
      "source": [
        "# Now counts the number of mutual friends\n",
        "# Computational Complexity: O(n + n*m)\n",
        "# Mutual Friends will be\n",
        "mutual_friends = []\n",
        "friends_in_common = 0\n",
        "t0 = time.time()\n",
        "\n",
        "# Fetch the friends of each and appends them to a list\n",
        "for i in range(len(x)):\n",
        "  if friend0 == x[i]:\n",
        "    s = y[i] + '\\t1'\n",
        "    mutual_friends.append(s)\n",
        "  if friend1 == x[i]:\n",
        "    s = y[i] + '\\t1'\n",
        "    mutual_friends.append(s)\n",
        "\n",
        "t1 = time.time()\n",
        "\n",
        "# Now we sort the list (matches the MapReduce Job on Hadoop)\n",
        "mutual_friends.sort()\n",
        "\n",
        "# verify if there is any mutual friend\n",
        "line = mutual_friends[0]\n",
        "current_id, current_count = line.split('\\t', 1)\n",
        "current_count = int(current_count)\n",
        "for i in range(1, len(mutual_friends)):\n",
        "  line = mutual_friends[i]\n",
        "  id, count = line.split('\\t', 1)\n",
        "  count = int(count)\n",
        "  if current_id == id:\n",
        "    current_count += 1\n",
        "    if current_count == 2:\n",
        "      friends_in_common += 1\n",
        "  else:\n",
        "    current_count = count\n",
        "    current_id = id\n",
        "  \n",
        "\n",
        "t2 = time.time()\n",
        "\n",
        "print('Delta fetch friends(s) = %.2f' %(t1-t0))\n",
        "print('Delta mutual friends(s) = %.2f' %(t2-t1))\n",
        "print('Delta Total(s) = %.2f' %(t2-t0))\n",
        "print('Nº of mutual friends: ', friends_in_common)"
      ],
      "execution_count": 47,
      "outputs": [
        {
          "output_type": "stream",
          "text": [
            "Delta fetch friends(s) = 229.62\n",
            "Delta mutual friends(s) = 0.00\n",
            "Delta Total(s) = 229.63\n",
            "Nº of mutual friends:  213\n"
          ],
          "name": "stdout"
        }
      ]
    }
  ]
}